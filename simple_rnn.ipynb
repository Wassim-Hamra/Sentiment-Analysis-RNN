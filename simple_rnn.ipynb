{
  "cells": [
    {
      "cell_type": "code",
      "id": "initial_id",
      "metadata": {
        "collapsed": true,
        "jupyter": {
          "is_executing": true
        },
        "ExecuteTime": {
          "end_time": "2024-11-19T10:52:11.091972Z",
          "start_time": "2024-11-19T10:51:11.183936Z"
        },
        "id": "initial_id"
      },
      "source": [
        "import numpy as np\n",
        "import pandas as pd\n",
        "from tensorflow.keras.datasets import imdb\n",
        "from tensorflow.keras.preprocessing import sequence\n",
        "from tensorflow.keras.models import Sequential\n",
        "from tensorflow.keras.layers import Embedding,Dense,SimpleRNN"
      ],
      "outputs": [],
      "execution_count": 1
    },
    {
      "metadata": {
        "colab": {
          "base_uri": "https://localhost:8080/"
        },
        "id": "40b235fa3c043c29",
        "outputId": "42b65644-bdb9-4771-984e-baa38695a9ca"
      },
      "cell_type": "code",
      "source": [
        "# Loading Data\n",
        "max_features = 10000\n",
        "(X_train, y_train),(X_test,y_test) = imdb.load_data(num_words=max_features)\n",
        "print(f\"X_Train: {X_train.shape} X_Test: {X_test.shape}\")\n",
        "print(f\"y_Train: {X_train.shape} y_Test: {X_test.shape}\")"
      ],
      "id": "40b235fa3c043c29",
      "outputs": [
        {
          "output_type": "stream",
          "name": "stdout",
          "text": [
            "Downloading data from https://storage.googleapis.com/tensorflow/tf-keras-datasets/imdb.npz\n",
            "17464789/17464789 [==============================] - 0s 0us/step\n",
            "X_Train: (25000,) X_Test: (25000,)\n",
            "y_Train: (25000,) y_Test: (25000,)\n"
          ]
        }
      ],
      "execution_count": 2
    },
    {
      "metadata": {
        "colab": {
          "base_uri": "https://localhost:8080/"
        },
        "id": "36da9c119593896c",
        "outputId": "0fb77198-4b77-4c62-812d-5d87bc40073c"
      },
      "cell_type": "code",
      "source": [
        "X_train[0]"
      ],
      "id": "36da9c119593896c",
      "outputs": [
        {
          "output_type": "execute_result",
          "data": {
            "text/plain": [
              "[1,\n",
              " 14,\n",
              " 22,\n",
              " 16,\n",
              " 43,\n",
              " 530,\n",
              " 973,\n",
              " 1622,\n",
              " 1385,\n",
              " 65,\n",
              " 458,\n",
              " 4468,\n",
              " 66,\n",
              " 3941,\n",
              " 4,\n",
              " 173,\n",
              " 36,\n",
              " 256,\n",
              " 5,\n",
              " 25,\n",
              " 100,\n",
              " 43,\n",
              " 838,\n",
              " 112,\n",
              " 50,\n",
              " 670,\n",
              " 2,\n",
              " 9,\n",
              " 35,\n",
              " 480,\n",
              " 284,\n",
              " 5,\n",
              " 150,\n",
              " 4,\n",
              " 172,\n",
              " 112,\n",
              " 167,\n",
              " 2,\n",
              " 336,\n",
              " 385,\n",
              " 39,\n",
              " 4,\n",
              " 172,\n",
              " 4536,\n",
              " 1111,\n",
              " 17,\n",
              " 546,\n",
              " 38,\n",
              " 13,\n",
              " 447,\n",
              " 4,\n",
              " 192,\n",
              " 50,\n",
              " 16,\n",
              " 6,\n",
              " 147,\n",
              " 2025,\n",
              " 19,\n",
              " 14,\n",
              " 22,\n",
              " 4,\n",
              " 1920,\n",
              " 4613,\n",
              " 469,\n",
              " 4,\n",
              " 22,\n",
              " 71,\n",
              " 87,\n",
              " 12,\n",
              " 16,\n",
              " 43,\n",
              " 530,\n",
              " 38,\n",
              " 76,\n",
              " 15,\n",
              " 13,\n",
              " 1247,\n",
              " 4,\n",
              " 22,\n",
              " 17,\n",
              " 515,\n",
              " 17,\n",
              " 12,\n",
              " 16,\n",
              " 626,\n",
              " 18,\n",
              " 2,\n",
              " 5,\n",
              " 62,\n",
              " 386,\n",
              " 12,\n",
              " 8,\n",
              " 316,\n",
              " 8,\n",
              " 106,\n",
              " 5,\n",
              " 4,\n",
              " 2223,\n",
              " 5244,\n",
              " 16,\n",
              " 480,\n",
              " 66,\n",
              " 3785,\n",
              " 33,\n",
              " 4,\n",
              " 130,\n",
              " 12,\n",
              " 16,\n",
              " 38,\n",
              " 619,\n",
              " 5,\n",
              " 25,\n",
              " 124,\n",
              " 51,\n",
              " 36,\n",
              " 135,\n",
              " 48,\n",
              " 25,\n",
              " 1415,\n",
              " 33,\n",
              " 6,\n",
              " 22,\n",
              " 12,\n",
              " 215,\n",
              " 28,\n",
              " 77,\n",
              " 52,\n",
              " 5,\n",
              " 14,\n",
              " 407,\n",
              " 16,\n",
              " 82,\n",
              " 2,\n",
              " 8,\n",
              " 4,\n",
              " 107,\n",
              " 117,\n",
              " 5952,\n",
              " 15,\n",
              " 256,\n",
              " 4,\n",
              " 2,\n",
              " 7,\n",
              " 3766,\n",
              " 5,\n",
              " 723,\n",
              " 36,\n",
              " 71,\n",
              " 43,\n",
              " 530,\n",
              " 476,\n",
              " 26,\n",
              " 400,\n",
              " 317,\n",
              " 46,\n",
              " 7,\n",
              " 4,\n",
              " 2,\n",
              " 1029,\n",
              " 13,\n",
              " 104,\n",
              " 88,\n",
              " 4,\n",
              " 381,\n",
              " 15,\n",
              " 297,\n",
              " 98,\n",
              " 32,\n",
              " 2071,\n",
              " 56,\n",
              " 26,\n",
              " 141,\n",
              " 6,\n",
              " 194,\n",
              " 7486,\n",
              " 18,\n",
              " 4,\n",
              " 226,\n",
              " 22,\n",
              " 21,\n",
              " 134,\n",
              " 476,\n",
              " 26,\n",
              " 480,\n",
              " 5,\n",
              " 144,\n",
              " 30,\n",
              " 5535,\n",
              " 18,\n",
              " 51,\n",
              " 36,\n",
              " 28,\n",
              " 224,\n",
              " 92,\n",
              " 25,\n",
              " 104,\n",
              " 4,\n",
              " 226,\n",
              " 65,\n",
              " 16,\n",
              " 38,\n",
              " 1334,\n",
              " 88,\n",
              " 12,\n",
              " 16,\n",
              " 283,\n",
              " 5,\n",
              " 16,\n",
              " 4472,\n",
              " 113,\n",
              " 103,\n",
              " 32,\n",
              " 15,\n",
              " 16,\n",
              " 5345,\n",
              " 19,\n",
              " 178,\n",
              " 32]"
            ]
          },
          "metadata": {},
          "execution_count": 3
        }
      ],
      "execution_count": 3
    },
    {
      "metadata": {
        "colab": {
          "base_uri": "https://localhost:8080/"
        },
        "id": "a4d68ccb8a0eb2e8",
        "outputId": "fb354d9c-aaa9-43fb-86d9-12ae987388cf"
      },
      "cell_type": "code",
      "source": [
        "print(len(X_train[31]), len(X_train[1]))"
      ],
      "id": "a4d68ccb8a0eb2e8",
      "outputs": [
        {
          "output_type": "stream",
          "name": "stdout",
          "text": [
            "647 189\n"
          ]
        }
      ],
      "execution_count": 4
    },
    {
      "metadata": {
        "colab": {
          "base_uri": "https://localhost:8080/"
        },
        "id": "3ff1f809643f31ee",
        "outputId": "332c18dd-33ff-465f-e54a-5363b6b86839"
      },
      "cell_type": "code",
      "source": [
        "maxlen = len(X_train[0])\n",
        "for arr in np.concatenate((X_train, X_test)):\n",
        "    lenarr = len(arr)\n",
        "    if maxlen < lenarr:\n",
        "        maxlen = lenarr\n",
        "        msg = arr\n",
        "\n",
        "print(maxlen)\n",
        "# Out of curiosity, checking what the message contains\n",
        "word_index = imdb.get_word_index()\n",
        "msg = ''\n",
        "for word_v in arr:\n",
        "    word_k = next((k for k, v in word_index.items() if v == word_v-3), \"?\")\n",
        "    msg = msg+\" \"+word_k\n",
        "print(msg)"
      ],
      "id": "3ff1f809643f31ee",
      "outputs": [
        {
          "output_type": "stream",
          "name": "stdout",
          "text": [
            "2494\n",
            "Downloading data from https://storage.googleapis.com/tensorflow/tf-keras-datasets/imdb_word_index.json\n",
            "1641221/1641221 [==============================] - 0s 0us/step\n",
            " ? a good ol' boy film is almost required to have ? car chases a storyline that has a vague resemblance to plot and at least one very pretty country gal ? with short shorts and a low top the pretty gal is here dressed in designer ? but the redneck ? stop there jimmy dean is a natural as a ? ? but as a tough guy former sheriff he comes up way short big john is big but he isn't convincing with the bad part of his ? bug eyed jack ? is a hoot as always and bo hopkins has been playing this same part for decades ned beatty also does his part in a small role but there is no story it ? more like an episode of in the heat of the night than a feature film ? with easily predictable sentiment perhaps the most glaring problem with this movie is charlie daniels singing the theme you know the one it was made famous by jimmy dean\n"
          ]
        }
      ],
      "execution_count": 5
    },
    {
      "metadata": {
        "colab": {
          "base_uri": "https://localhost:8080/"
        },
        "id": "55cb045bcbc48836",
        "outputId": "5a9b5453-5263-4a35-beaa-a283f4295121"
      },
      "cell_type": "code",
      "source": [
        "X_train = sequence.pad_sequences(X_train, padding=\"post\", maxlen=maxlen)\n",
        "X_test = sequence.pad_sequences(X_test, padding=\"post\", maxlen=maxlen)\n",
        "X_train[0][-20:]"
      ],
      "id": "55cb045bcbc48836",
      "outputs": [
        {
          "output_type": "execute_result",
          "data": {
            "text/plain": [
              "array([0, 0, 0, 0, 0, 0, 0, 0, 0, 0, 0, 0, 0, 0, 0, 0, 0, 0, 0, 0],\n",
              "      dtype=int32)"
            ]
          },
          "metadata": {},
          "execution_count": 6
        }
      ],
      "execution_count": 6
    },
    {
      "cell_type": "code",
      "source": [
        "# TPU Initialization\n",
        "import tensorflow as tf\n",
        "tpu = tf.distribute.cluster_resolver.TPUClusterResolver()\n",
        "tf.config.experimental_connect_to_cluster(tpu)\n",
        "tf.tpu.experimental.initialize_tpu_system(tpu)\n",
        "print('TPU initialized:', tpu)"
      ],
      "metadata": {
        "id": "82RlxORuGbLs"
      },
      "id": "82RlxORuGbLs",
      "execution_count": null,
      "outputs": []
    },
    {
      "cell_type": "code",
      "source": [
        "strategy = tf.distribute.TPUStrategy(resolver)"
      ],
      "metadata": {
        "colab": {
          "base_uri": "https://localhost:8080/"
        },
        "id": "YISCWU7wGdA1",
        "outputId": "b97b5438-fe55-4079-da49-c7362ed6b863"
      },
      "id": "YISCWU7wGdA1",
      "execution_count": 11,
      "outputs": [
        {
          "output_type": "stream",
          "name": "stderr",
          "text": [
            "WARNING:tensorflow:TPU system local has already been initialized. Reinitializing the TPU can cause previously created variables on TPU to be lost.\n"
          ]
        }
      ]
    },
    {
      "metadata": {
        "ExecuteTime": {
          "end_time": "2024-11-11T21:06:38.802585Z",
          "start_time": "2024-11-11T21:06:38.756169Z"
        },
        "id": "9d17a16943e842f4"
      },
      "cell_type": "code",
      "source": [
        "# Model Building\n",
        "with strategy.scope():\n",
        "  model = Sequential()\n",
        "  model.add(Embedding(max_features,128))\n",
        "  model.add(SimpleRNN(128, activation='relu'))\n",
        "  model.add(Dense(1,activation='sigmoid'))\n",
        "\n",
        "  model.compile(optimizer =\"adam\", loss= \"binary_crossentropy\",metrics = [\"accuracy\"])"
      ],
      "id": "9d17a16943e842f4",
      "outputs": [],
      "execution_count": 12
    },
    {
      "metadata": {
        "ExecuteTime": {
          "end_time": "2024-11-11T21:06:39.034596Z",
          "start_time": "2024-11-11T21:06:39.027038Z"
        },
        "colab": {
          "base_uri": "https://localhost:8080/"
        },
        "id": "4d7602c203d38d04",
        "outputId": "f477c411-4bd1-42c3-dea5-89ec6be429f4"
      },
      "cell_type": "code",
      "source": [
        "from tensorflow.keras.callbacks import EarlyStopping\n",
        "es = EarlyStopping(patience=5, monitor=\"val_loss\",restore_best_weights=True)\n",
        "es"
      ],
      "id": "4d7602c203d38d04",
      "outputs": [
        {
          "output_type": "execute_result",
          "data": {
            "text/plain": [
              "<keras.src.callbacks.EarlyStopping at 0x7f083a4dfcd0>"
            ]
          },
          "metadata": {},
          "execution_count": 13
        }
      ],
      "execution_count": 13
    },
    {
      "cell_type": "code",
      "source": [
        "history = model.fit(X_train, y_train, epochs=10, batch_size=64, validation_split=0.2, callbacks=[es])"
      ],
      "metadata": {
        "colab": {
          "base_uri": "https://localhost:8080/"
        },
        "id": "uaA8ZBWEGIiZ",
        "outputId": "1d0cda90-f29d-4939-f566-8b06892b49be"
      },
      "id": "uaA8ZBWEGIiZ",
      "execution_count": 14,
      "outputs": [
        {
          "output_type": "stream",
          "name": "stdout",
          "text": [
            "Epoch 1/10\n",
            "313/313 [==============================] - 174s 542ms/step - loss: 0.6934 - accuracy: 0.5015 - val_loss: 0.6932 - val_accuracy: 0.4938\n",
            "Epoch 2/10\n",
            "313/313 [==============================] - 166s 530ms/step - loss: 0.6933 - accuracy: 0.5009 - val_loss: 0.6932 - val_accuracy: 0.4938\n",
            "Epoch 3/10\n",
            "313/313 [==============================] - 166s 529ms/step - loss: 1.9196 - accuracy: 0.4976 - val_loss: 0.6931 - val_accuracy: 0.5062\n",
            "Epoch 4/10\n",
            "313/313 [==============================] - 166s 529ms/step - loss: 0.6932 - accuracy: 0.4934 - val_loss: 0.6932 - val_accuracy: 0.4938\n",
            "Epoch 5/10\n",
            "313/313 [==============================] - 166s 529ms/step - loss: 0.6932 - accuracy: 0.5006 - val_loss: 0.6931 - val_accuracy: 0.5062\n",
            "Epoch 6/10\n",
            "313/313 [==============================] - 166s 530ms/step - loss: 0.6932 - accuracy: 0.4967 - val_loss: 0.6932 - val_accuracy: 0.4938\n",
            "Epoch 7/10\n",
            "313/313 [==============================] - 166s 530ms/step - loss: 0.6932 - accuracy: 0.4954 - val_loss: 0.6932 - val_accuracy: 0.4938\n",
            "Epoch 8/10\n",
            "313/313 [==============================] - 167s 532ms/step - loss: 0.6932 - accuracy: 0.4990 - val_loss: 0.6932 - val_accuracy: 0.4938\n"
          ]
        }
      ]
    },
    {
      "cell_type": "code",
      "source": [
        "model.summary()"
      ],
      "metadata": {
        "colab": {
          "base_uri": "https://localhost:8080/"
        },
        "id": "dhs4G97CJlVi",
        "outputId": "4a0dd62b-1a4d-4055-9125-3ca70f8e0af5"
      },
      "id": "dhs4G97CJlVi",
      "execution_count": 16,
      "outputs": [
        {
          "output_type": "stream",
          "name": "stdout",
          "text": [
            "Model: \"sequential_1\"\n",
            "_________________________________________________________________\n",
            " Layer (type)                Output Shape              Param #   \n",
            "=================================================================\n",
            " embedding_1 (Embedding)     (None, None, 128)         1280000   \n",
            "                                                                 \n",
            " simple_rnn_1 (SimpleRNN)    (None, 128)               32896     \n",
            "                                                                 \n",
            " dense_1 (Dense)             (None, 1)                 129       \n",
            "                                                                 \n",
            "=================================================================\n",
            "Total params: 1313025 (5.01 MB)\n",
            "Trainable params: 1313025 (5.01 MB)\n",
            "Non-trainable params: 0 (0.00 Byte)\n",
            "_________________________________________________________________\n"
          ]
        }
      ]
    },
    {
      "metadata": {
        "id": "a44b34c90072e298"
      },
      "cell_type": "code",
      "outputs": [],
      "execution_count": 15,
      "source": [
        "model.save(\"sentiment_rnn.keras\")"
      ],
      "id": "a44b34c90072e298"
    },
    {
      "cell_type": "code",
      "source": [],
      "metadata": {
        "id": "YYd32ux1G5ep"
      },
      "id": "YYd32ux1G5ep",
      "execution_count": null,
      "outputs": []
    }
  ],
  "metadata": {
    "kernelspec": {
      "display_name": "Python (my_venv)",
      "language": "python",
      "name": "my_venv"
    },
    "language_info": {
      "codemirror_mode": {
        "name": "ipython",
        "version": 2
      },
      "file_extension": ".py",
      "mimetype": "text/x-python",
      "name": "python",
      "nbconvert_exporter": "python",
      "pygments_lexer": "ipython2",
      "version": "2.7.6"
    },
    "colab": {
      "provenance": [],
      "gpuType": "V28"
    },
    "accelerator": "TPU"
  },
  "nbformat": 4,
  "nbformat_minor": 5
}